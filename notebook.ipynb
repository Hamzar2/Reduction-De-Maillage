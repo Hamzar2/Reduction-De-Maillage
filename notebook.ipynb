{
 "cells": [
  {
   "cell_type": "markdown",
   "id": "312e6a14",
   "metadata": {
    "papermill": {
     "duration": 0.004314,
     "end_time": "2024-12-25T05:06:37.198893",
     "exception": false,
     "start_time": "2024-12-25T05:06:37.194579",
     "status": "completed"
    },
    "tags": []
   },
   "source": [
    "# **loading a 3D model from an OBJ file.**"
   ]
  },
  {
   "cell_type": "code",
   "execution_count": 1,
   "id": "0cc90ceb",
   "metadata": {
    "_cell_guid": "b1076dfc-b9ad-4769-8c92-a6c4dae69d19",
    "_uuid": "8f2839f25d086af736a60e9eeb907d3b93b6e0e5",
    "execution": {
     "iopub.execute_input": "2024-12-25T05:06:37.207521Z",
     "iopub.status.busy": "2024-12-25T05:06:37.207130Z",
     "iopub.status.idle": "2024-12-25T05:06:37.219956Z",
     "shell.execute_reply": "2024-12-25T05:06:37.218864Z"
    },
    "papermill": {
     "duration": 0.019094,
     "end_time": "2024-12-25T05:06:37.221679",
     "exception": false,
     "start_time": "2024-12-25T05:06:37.202585",
     "status": "completed"
    },
    "tags": []
   },
   "outputs": [],
   "source": [
    "import numpy as np\n",
    "from collections import defaultdict\n",
    "import heapq\n",
    "\n",
    "def load_obj(file_path):\n",
    "    vertices = []\n",
    "    textures = []\n",
    "    normals = []\n",
    "    faces = []\n",
    "    groups = {}\n",
    "    materials = {}\n",
    "    current_group = None\n",
    "    mtl_file = None\n",
    "\n",
    "    with open(file_path, 'r') as file:\n",
    "        for line in file:\n",
    "            line = line.strip()\n",
    "            if not line or line.startswith('#'):\n",
    "                continue\n",
    "            parts = line.split()\n",
    "            keyword = parts[0]\n",
    "\n",
    "            if keyword == 'v':\n",
    "                vertices.append(list(map(float, parts[1:])))\n",
    "            elif keyword == 'vt':\n",
    "                textures.append(list(map(float, parts[1:])))\n",
    "            elif keyword == 'vn':\n",
    "                normals.append(list(map(float, parts[1:])))\n",
    "            elif keyword == 'f':\n",
    "                face_data = []\n",
    "                for vertex_part in parts[1:]:\n",
    "                    indices = vertex_part.split('/')\n",
    "                    v_index = int(indices[0])\n",
    "                    if v_index < 0:\n",
    "                        v_index += len(vertices)\n",
    "                    v_index -= 1\n",
    "\n",
    "                    vt_index = None\n",
    "                    if len(indices) > 1 and indices[1]:\n",
    "                        vt_index = int(indices[1])\n",
    "                        if vt_index < 0:\n",
    "                            vt_index += len(textures)\n",
    "                        vt_index -= 1\n",
    "\n",
    "                    vn_index = None\n",
    "                    if len(indices) > 2 and indices[2]:\n",
    "                        vn_index = int(indices[2])\n",
    "                        if vn_index < 0:\n",
    "                            vn_index += len(normals)\n",
    "                        vn_index -= 1\n",
    "\n",
    "                    face_data.append((v_index, vt_index, vn_index))\n",
    "                faces.append(face_data)\n",
    "                if current_group:\n",
    "                    if current_group not in groups:\n",
    "                        groups[current_group] = []\n",
    "                    groups[current_group].append(len(faces) - 1) # Stocker l'index de la face\n",
    "            elif keyword == 'g':\n",
    "                if len(parts) > 1:\n",
    "                    current_group = parts[1]\n",
    "            elif keyword == 'usemtl':\n",
    "                if len(parts) > 1:\n",
    "                    current_material = parts[1]\n",
    "                    # Vous pouvez choisir de stocker l'association face -> matériau si nécessaire\n",
    "            elif keyword == 'mtllib':\n",
    "                if len(parts) > 1:\n",
    "                    mtl_file = parts[1]\n",
    "                    # Vous pouvez ajouter une fonction pour parser le fichier .mtl ici\n",
    "\n",
    "    return vertices, textures, normals, faces, groups, materials, mtl_file"
   ]
  },
  {
   "cell_type": "markdown",
   "id": "a905ae48",
   "metadata": {
    "papermill": {
     "duration": 0.003116,
     "end_time": "2024-12-25T05:06:37.228385",
     "exception": false,
     "start_time": "2024-12-25T05:06:37.225269",
     "status": "completed"
    },
    "tags": []
   },
   "source": [
    "# **simplify the mesh by grouping nearby vertices into cells of a 3D grid and replacing them with a single representative vertex**"
   ]
  },
  {
   "cell_type": "code",
   "execution_count": 2,
   "id": "16ab2427",
   "metadata": {
    "execution": {
     "iopub.execute_input": "2024-12-25T05:06:37.236074Z",
     "iopub.status.busy": "2024-12-25T05:06:37.235696Z",
     "iopub.status.idle": "2024-12-25T05:06:37.248615Z",
     "shell.execute_reply": "2024-12-25T05:06:37.247682Z"
    },
    "papermill": {
     "duration": 0.018678,
     "end_time": "2024-12-25T05:06:37.250251",
     "exception": false,
     "start_time": "2024-12-25T05:06:37.231573",
     "status": "completed"
    },
    "tags": []
   },
   "outputs": [],
   "source": [
    "def vertex_clustering(vertices, textures, normals, faces, grid_resolution):\n",
    "    if isinstance(grid_resolution, int):\n",
    "        grid_resolution = [grid_resolution] * 3\n",
    "\n",
    "    min_coords = np.min(vertices, axis=0)\n",
    "    max_coords = np.max(vertices, axis=0)\n",
    "    grid_size = (max_coords - min_coords) / np.array(grid_resolution)\n",
    "\n",
    "    # 2. Assigner les sommets aux cellules\n",
    "    cell_map = defaultdict(list)\n",
    "    for i, vertex in enumerate(vertices):\n",
    "        cell_index = tuple(((vertex - min_coords) // grid_size).astype(int))\n",
    "        cell_map[cell_index].append(i)\n",
    "\n",
    "    # 3. Calculer le barycentre, la texture moyenne et la normale moyenne pour chaque cellule\n",
    "    new_vertices = []\n",
    "    new_textures = []\n",
    "    new_normals = []\n",
    "    cell_barycenter_map = {}  # Associe l'index de la cellule à l'index du nouveau sommet\n",
    "    for cell_index, vertex_indices in cell_map.items():\n",
    "        cell_vertices = [vertices[i] for i in vertex_indices]\n",
    "        if cell_vertices:\n",
    "            barycenter = np.mean(cell_vertices, axis=0).tolist()\n",
    "            new_vertices.append(barycenter)\n",
    "            cell_barycenter_map[cell_index] = len(new_vertices) - 1\n",
    "\n",
    "            # Calculer la texture moyenne\n",
    "            cell_textures = [textures[i] for i in vertex_indices if textures]\n",
    "            if cell_textures:\n",
    "                avg_texture = np.mean(cell_textures, axis=0).tolist()\n",
    "                new_textures.append(avg_texture)\n",
    "            else:\n",
    "                new_textures.append(None)  # Gérer le cas sans textures\n",
    "\n",
    "            # Calculer la normale moyenne\n",
    "            cell_normals = [normals[i] for i in vertex_indices if normals]\n",
    "            if cell_normals:\n",
    "                avg_normal = np.mean(cell_normals, axis=0).tolist()\n",
    "                new_normals.append(avg_normal)\n",
    "            else:\n",
    "                new_normals.append(None)  # Gérer le cas sans normales\n",
    "\n",
    "    # 4. Mettre à jour les faces\n",
    "    new_faces = []\n",
    "    for face in faces:\n",
    "        new_face_data = []\n",
    "        valid_face = True\n",
    "        for vertex_index, texture_index, normal_index in face:\n",
    "            vertex = vertices[vertex_index]\n",
    "            cell_index = tuple(((vertex - min_coords) // grid_size).astype(int))\n",
    "            if cell_index in cell_barycenter_map:\n",
    "                new_vertex_index = cell_barycenter_map[cell_index]\n",
    "\n",
    "                # Trouver l'index de texture et de normale correspondant au barycentre de la cellule\n",
    "                new_texture_index = new_vertex_index if new_textures[new_vertex_index] is not None else None\n",
    "                new_normal_index = new_vertex_index if new_normals[new_vertex_index] is not None else None\n",
    "\n",
    "                new_face_data.append((new_vertex_index, new_texture_index, new_normal_index))\n",
    "            else:\n",
    "                valid_face = False # Skip faces where original vertices are not assigned to any cell\n",
    "                break\n",
    "\n",
    "        if valid_face:\n",
    "            # Éviter les faces dégénérées\n",
    "            unique_vertices_in_face = list(set(idx for idx, _, _ in new_face_data))\n",
    "            if len(unique_vertices_in_face) >= 3:\n",
    "                new_faces.append(new_face_data)\n",
    "\n",
    "    # Filter out None values from new_textures and new_normals\n",
    "    new_textures_filtered = [t for t in new_textures if t is not None]\n",
    "    new_normals_filtered = [n for n in new_normals if n is not None]\n",
    "\n",
    "    # Re-index faces to match the filtered texture and normal lists\n",
    "    if new_textures_filtered or new_normals_filtered:\n",
    "        new_faces_reindexed = []\n",
    "        for face in new_faces:\n",
    "            new_face_data_reindexed = []\n",
    "            for v_idx, vt_idx, vn_idx in face:\n",
    "                original_vt_index = new_textures.index(new_textures_filtered[vt_idx]) if vt_idx is not None and new_textures_filtered else None\n",
    "                original_vn_index = new_normals.index(new_normals_filtered[vn_idx]) if vn_idx is not None and new_normals_filtered else None\n",
    "                new_face_data_reindexed.append((v_idx, original_vt_index, original_vn_index))\n",
    "            new_faces_reindexed.append(new_face_data_reindexed)\n",
    "        return new_vertices, new_textures_filtered, new_normals_filtered, new_faces_reindexed\n",
    "    else:\n",
    "        return new_vertices, [], [], new_faces"
   ]
  },
  {
   "cell_type": "markdown",
   "id": "aaa05ff6",
   "metadata": {
    "papermill": {
     "duration": 0.00314,
     "end_time": "2024-12-25T05:06:37.256966",
     "exception": false,
     "start_time": "2024-12-25T05:06:37.253826",
     "status": "completed"
    },
    "tags": []
   },
   "source": [
    "### **3. Extracts unique edges from the list of faces. An edge is defined by a pair of connected vertices.**\n",
    "\n",
    "### **4. Calculates a cost for collapsing a specific edge. In this case, the cost is simply the geometric distance between the two vertices forming the edge.**\n",
    "    \n",
    "### **5. Calculates the cost for each edge in a set of edges and stores them in a min-heap data structure. A min-heap allows efficient retrieval of the edge with the lowest cost.**\n",
    "\n",
    "### **6. Performs the core operation of edge collapse, merging the two vertices of a selected edge into a single vertex.**"
   ]
  },
  {
   "cell_type": "code",
   "execution_count": 3,
   "id": "511abe0b",
   "metadata": {
    "execution": {
     "iopub.execute_input": "2024-12-25T05:06:37.264972Z",
     "iopub.status.busy": "2024-12-25T05:06:37.264571Z",
     "iopub.status.idle": "2024-12-25T05:06:37.277668Z",
     "shell.execute_reply": "2024-12-25T05:06:37.276369Z"
    },
    "papermill": {
     "duration": 0.019162,
     "end_time": "2024-12-25T05:06:37.279488",
     "exception": false,
     "start_time": "2024-12-25T05:06:37.260326",
     "status": "completed"
    },
    "tags": []
   },
   "outputs": [],
   "source": [
    "def get_edges_from_faces(faces):\n",
    "    \"\"\"\n",
    "    Extracts unique edges from a list of faces.\n",
    "\n",
    "    Args:\n",
    "        faces (list): List of faces, where each face is a list of vertex indices.\n",
    "\n",
    "    Returns:\n",
    "        set: A set of tuples, where each tuple represents an edge (sorted vertex indices).\n",
    "    \"\"\"\n",
    "    edges = set()\n",
    "    for face in faces:\n",
    "        v_indices = sorted([face[i][0] for i in range(len(face))])\n",
    "        for i in range(len(v_indices)):\n",
    "            for j in range(i + 1, len(v_indices)):\n",
    "                edges.add(tuple(sorted((v_indices[i], v_indices[j]))))\n",
    "    return edges\n",
    "\n",
    "def calculate_edge_cost(vertices, edge):\n",
    "    \"\"\"\n",
    "    Calculates the geometric distance between the vertices of an edge.\n",
    "\n",
    "    Args:\n",
    "        vertices (list): List of vertex coordinates.\n",
    "        edge (tuple): Tuple representing an edge (vertex indices).\n",
    "\n",
    "    Returns:\n",
    "        float: The geometric distance between the vertices.\n",
    "    \"\"\"\n",
    "    v1_index, v2_index = edge\n",
    "    v1_coords = np.array(vertices[v1_index])\n",
    "    v2_coords = np.array(vertices[v2_index])\n",
    "    return np.linalg.norm(v1_coords - v2_coords)\n",
    "\n",
    "def initialize_edge_costs(vertices, edges):\n",
    "    \"\"\"\n",
    "    Calculates the cost for each edge and stores them in a min-heap.\n",
    "\n",
    "    Args:\n",
    "        vertices (list): List of vertex coordinates.\n",
    "        edges (set): Set of edges.\n",
    "\n",
    "    Returns:\n",
    "        list: A min-heap of (cost, edge) tuples.\n",
    "    \"\"\"\n",
    "    edge_heap = []\n",
    "    for edge in edges:\n",
    "        cost = calculate_edge_cost(vertices, edge)\n",
    "        heapq.heappush(edge_heap, (cost, edge))\n",
    "    return edge_heap\n",
    "\n",
    "def collapse_edge(vertices, textures, normals, faces, edge_to_collapse, collapse_to='midpoint'):\n",
    "    \"\"\"\n",
    "    Collapses a given edge, merging its two vertices.\n",
    "\n",
    "    Args:\n",
    "        vertices (list): List of vertex coordinates.\n",
    "        textures (list): List of texture coordinates.\n",
    "        normals (list): List of normal vectors.\n",
    "        faces (list): List of faces.\n",
    "        edge_to_collapse (tuple): The edge to collapse (vertex indices).\n",
    "        collapse_to (str): How to calculate the new vertex position ('midpoint', 'v1', 'v2').\n",
    "\n",
    "    Returns:\n",
    "        tuple: Updated vertices, textures, normals, and faces.\n",
    "    \"\"\"\n",
    "    v1_index, v2_index = sorted(edge_to_collapse)\n",
    "    v1 = np.array(vertices[v1_index])\n",
    "    v2 = np.array(vertices[v2_index])\n",
    "\n",
    "    # Calculate the new vertex position\n",
    "    if collapse_to == 'midpoint':\n",
    "        new_vertex_pos = ((v1 + v2) / 2).tolist()\n",
    "    elif collapse_to == 'v1':\n",
    "        new_vertex_pos = v1.tolist()\n",
    "    elif collapse_to == 'v2':\n",
    "        new_vertex_pos = v2.tolist()\n",
    "    else:\n",
    "        raise ValueError(\"Invalid collapse_to method.\")\n",
    "\n",
    "    # Add the new vertex\n",
    "    new_vertex_index = len(vertices)\n",
    "    new_vertices = vertices\n",
    "    if v1_index < len(new_vertices):\n",
    "        new_vertices[v1_index] = new_vertex_pos\n",
    "    else:\n",
    "        new_vertices.append(new_vertex_pos)\n",
    "\n",
    "    new_faces = []\n",
    "    for face in faces:\n",
    "        new_face = []\n",
    "        replace_v1 = False\n",
    "        replace_v2 = False\n",
    "        for v_idx, vt_idx, vn_idx in face:\n",
    "            if v_idx == v1_index:\n",
    "                replace_v1 = True\n",
    "                new_face.append((v2_index, vt_idx, vn_idx))\n",
    "            elif v_idx == v2_index:\n",
    "                replace_v2 = True\n",
    "                new_face.append((v2_index, vt_idx, vn_idx))\n",
    "            else:\n",
    "                new_face.append((v_idx if v_idx < v1_index else v_idx -1 if v_idx > v1_index else v_idx, vt_idx, vn_idx))\n",
    "\n",
    "        unique_vertices = set(v_idx for v_idx, _, _ in new_face)\n",
    "        if len(unique_vertices) >= 3:\n",
    "            new_faces.append(new_face)\n",
    "\n",
    "    # Remove the collapsed vertex. Adjust indices in faces.\n",
    "    # new_vertices = [v for i, v in enumerate(vertices) if i != v1_index]\n",
    "    # new_faces = []\n",
    "    # for face in faces:\n",
    "    #     if all(idx[0] != v1_index for idx in face):\n",
    "    #         remapped_face = []\n",
    "    #         for v_idx, vt_idx, vn_idx in face:\n",
    "    #             new_v_idx = v_idx if v_idx < v1_index else v_idx - 1\n",
    "    #             remapped_face.append((new_v_idx, vt_idx, vn_idx))\n",
    "    #         new_faces.append(remapped_face)\n",
    "\n",
    "    return new_vertices, textures, normals, new_faces"
   ]
  },
  {
   "cell_type": "markdown",
   "id": "9a224d19",
   "metadata": {
    "papermill": {
     "duration": 0.003092,
     "end_time": "2024-12-25T05:06:37.286094",
     "exception": false,
     "start_time": "2024-12-25T05:06:37.283002",
     "status": "completed"
    },
    "tags": []
   },
   "source": [
    "### **7. This function implements the iterative edge collapse simplification algorithm. It repeatedly collapses the \"cheapest\" edge (the one with the smallest cost) until a target number of edge collapses is reached.**"
   ]
  },
  {
   "cell_type": "code",
   "execution_count": 4,
   "id": "99c49ea0",
   "metadata": {
    "execution": {
     "iopub.execute_input": "2024-12-25T05:06:37.294095Z",
     "iopub.status.busy": "2024-12-25T05:06:37.293699Z",
     "iopub.status.idle": "2024-12-25T05:06:37.300153Z",
     "shell.execute_reply": "2024-12-25T05:06:37.299054Z"
    },
    "papermill": {
     "duration": 0.012536,
     "end_time": "2024-12-25T05:06:37.301849",
     "exception": false,
     "start_time": "2024-12-25T05:06:37.289313",
     "status": "completed"
    },
    "tags": []
   },
   "outputs": [],
   "source": [
    "def simplify_mesh(vertices, textures, normals, faces, target_reduction):\n",
    "    \"\"\"\n",
    "    Simplifies a mesh by iteratively collapsing edges.\n",
    "\n",
    "    Args:\n",
    "        vertices (list): List of vertex coordinates.\n",
    "        textures (list): List of texture coordinates.\n",
    "        normals (list): List of normal vectors.\n",
    "        faces (list): List of faces.\n",
    "        target_reduction (int): The target number of edge collapses.\n",
    "\n",
    "    Returns:\n",
    "        tuple: Simplified vertices, textures, normals, and faces.\n",
    "    \"\"\"\n",
    "    current_vertices = list(vertices)\n",
    "    current_textures = list(textures)\n",
    "    current_normals = list(normals)\n",
    "    current_faces = list(faces)\n",
    "\n",
    "    edges = get_edges_from_faces(current_faces)\n",
    "    edge_heap = initialize_edge_costs(current_vertices, edges)\n",
    "\n",
    "    collapsed_edges_count = 0\n",
    "    while collapsed_edges_count < target_reduction and edge_heap:\n",
    "        cost, edge_to_collapse = heapq.heappop(edge_heap)\n",
    "\n",
    "        # Check if the edge is still valid (vertices haven't been merged yet)\n",
    "        if edge_to_collapse[0] >= len(current_vertices) or edge_to_collapse[1] >= len(current_vertices) or edge_to_collapse[0] == edge_to_collapse[1]:\n",
    "            continue\n",
    "\n",
    "        current_vertices, current_textures, current_normals, current_faces = collapse_edge(\n",
    "            current_vertices, current_textures, current_normals, current_faces, edge_to_collapse\n",
    "        )\n",
    "        collapsed_edges_count += 1\n",
    "\n",
    "        # Rebuild the edge heap (can be optimized)\n",
    "        edges = get_edges_from_faces(current_faces)\n",
    "        edge_heap = initialize_edge_costs(current_vertices, edges)\n",
    "\n",
    "    return current_vertices, current_textures, current_normals, current_faces"
   ]
  },
  {
   "cell_type": "markdown",
   "id": "ea6023ad",
   "metadata": {
    "papermill": {
     "duration": 0.003085,
     "end_time": "2024-12-25T05:06:37.308450",
     "exception": false,
     "start_time": "2024-12-25T05:06:37.305365",
     "status": "completed"
    },
    "tags": []
   },
   "source": [
    "# **Test**"
   ]
  },
  {
   "cell_type": "code",
   "execution_count": 5,
   "id": "25e01031",
   "metadata": {
    "execution": {
     "iopub.execute_input": "2024-12-25T05:06:37.316382Z",
     "iopub.status.busy": "2024-12-25T05:06:37.316046Z",
     "iopub.status.idle": "2024-12-25T05:06:37.344800Z",
     "shell.execute_reply": "2024-12-25T05:06:37.343852Z"
    },
    "papermill": {
     "duration": 0.034767,
     "end_time": "2024-12-25T05:06:37.346570",
     "exception": false,
     "start_time": "2024-12-25T05:06:37.311803",
     "status": "completed"
    },
    "tags": []
   },
   "outputs": [],
   "source": [
    "vertices, textures, normals, faces, groups, materials, mtl_file = load_obj(\"/kaggle/input/objects/obj1.obj\")\n"
   ]
  },
  {
   "cell_type": "code",
   "execution_count": 6,
   "id": "e49531cf",
   "metadata": {
    "execution": {
     "iopub.execute_input": "2024-12-25T05:06:37.354814Z",
     "iopub.status.busy": "2024-12-25T05:06:37.354412Z",
     "iopub.status.idle": "2024-12-25T05:06:37.438027Z",
     "shell.execute_reply": "2024-12-25T05:06:37.436848Z"
    },
    "papermill": {
     "duration": 0.089738,
     "end_time": "2024-12-25T05:06:37.439938",
     "exception": false,
     "start_time": "2024-12-25T05:06:37.350200",
     "status": "completed"
    },
    "tags": []
   },
   "outputs": [
    {
     "name": "stdout",
     "output_type": "stream",
     "text": [
      "Nombre de sommets avant le clustering: 1369\n",
      "Nombre de sommets après le clustering: 270\n",
      "Nombre de textures avant le clustering: 0\n",
      "Nombre de textures après le clustering: 0\n",
      "Nombre de normales avant le clustering: 1393\n",
      "Nombre de normales après le clustering: 270\n",
      "Nombre de faces avant le clustering: 2734\n",
      "Nombre de faces après le clustering: 634\n"
     ]
    }
   ],
   "source": [
    "new_vertices_vc, new_textures_vc, new_normals_vc, new_faces_vc = vertex_clustering(\n",
    "    vertices, textures, normals, faces, (5, 10, 15)\n",
    ")\n",
    "\n",
    "print(\"Nombre de sommets avant le clustering:\", len(vertices))\n",
    "print(\"Nombre de sommets après le clustering:\", len(new_vertices_vc))\n",
    "print(\"Nombre de textures avant le clustering:\", len(textures))\n",
    "print(\"Nombre de textures après le clustering:\", len(new_textures_vc))\n",
    "print(\"Nombre de normales avant le clustering:\", len(normals))\n",
    "print(\"Nombre de normales après le clustering:\", len(new_normals_vc))\n",
    "print(\"Nombre de faces avant le clustering:\", len(faces))\n",
    "print(\"Nombre de faces après le clustering:\", len(new_faces_vc))"
   ]
  },
  {
   "cell_type": "code",
   "execution_count": 7,
   "id": "ae7b7497",
   "metadata": {
    "execution": {
     "iopub.execute_input": "2024-12-25T05:06:37.448297Z",
     "iopub.status.busy": "2024-12-25T05:06:37.447954Z",
     "iopub.status.idle": "2024-12-25T05:06:37.474228Z",
     "shell.execute_reply": "2024-12-25T05:06:37.473126Z"
    },
    "papermill": {
     "duration": 0.032073,
     "end_time": "2024-12-25T05:06:37.475911",
     "exception": false,
     "start_time": "2024-12-25T05:06:37.443838",
     "status": "completed"
    },
    "tags": []
   },
   "outputs": [
    {
     "name": "stdout",
     "output_type": "stream",
     "text": [
      "Number of edges: 867\n",
      "Number of edges in heap: 867\n"
     ]
    }
   ],
   "source": [
    "# Get edges and initialize edge costs\n",
    "edges = get_edges_from_faces(new_faces_vc)\n",
    "print(f\"Number of edges: {len(edges)}\")\n",
    "edge_heap = initialize_edge_costs(new_vertices_vc, edges)\n",
    "print(f\"Number of edges in heap: {len(edge_heap)}\")"
   ]
  },
  {
   "cell_type": "code",
   "execution_count": 8,
   "id": "0a02a382",
   "metadata": {
    "execution": {
     "iopub.execute_input": "2024-12-25T05:06:37.484207Z",
     "iopub.status.busy": "2024-12-25T05:06:37.483881Z",
     "iopub.status.idle": "2024-12-25T05:06:38.013209Z",
     "shell.execute_reply": "2024-12-25T05:06:38.012226Z"
    },
    "papermill": {
     "duration": 0.535341,
     "end_time": "2024-12-25T05:06:38.014825",
     "exception": false,
     "start_time": "2024-12-25T05:06:37.479484",
     "status": "completed"
    },
    "tags": []
   },
   "outputs": [
    {
     "name": "stdout",
     "output_type": "stream",
     "text": [
      "Nombre de sommets après simplification: 270\n",
      "Nombre de faces après simplification: 266\n"
     ]
    }
   ],
   "source": [
    "# Simplify the mesh\n",
    "target_reduction = 100  # Define the number of edges to collapse\n",
    "simplified_vertices, simplified_textures, simplified_normals, simplified_faces = simplify_mesh(\n",
    "    new_vertices_vc, new_textures_vc, new_normals_vc, new_faces_vc, target_reduction\n",
    ")\n",
    "\n",
    "print(\"Nombre de sommets après simplification:\", len(simplified_vertices))\n",
    "print(\"Nombre de faces après simplification:\", len(simplified_faces))"
   ]
  }
 ],
 "metadata": {
  "kaggle": {
   "accelerator": "none",
   "dataSources": [
    {
     "datasetId": 6369588,
     "sourceId": 10292087,
     "sourceType": "datasetVersion"
    }
   ],
   "dockerImageVersionId": 30822,
   "isGpuEnabled": false,
   "isInternetEnabled": true,
   "language": "python",
   "sourceType": "notebook"
  },
  "kernelspec": {
   "display_name": "Python 3",
   "language": "python",
   "name": "python3"
  },
  "language_info": {
   "codemirror_mode": {
    "name": "ipython",
    "version": 3
   },
   "file_extension": ".py",
   "mimetype": "text/x-python",
   "name": "python",
   "nbconvert_exporter": "python",
   "pygments_lexer": "ipython3",
   "version": "3.10.12"
  },
  "papermill": {
   "default_parameters": {},
   "duration": 3.416123,
   "end_time": "2024-12-25T05:06:38.437835",
   "environment_variables": {},
   "exception": null,
   "input_path": "__notebook__.ipynb",
   "output_path": "__notebook__.ipynb",
   "parameters": {},
   "start_time": "2024-12-25T05:06:35.021712",
   "version": "2.6.0"
  }
 },
 "nbformat": 4,
 "nbformat_minor": 5
}
